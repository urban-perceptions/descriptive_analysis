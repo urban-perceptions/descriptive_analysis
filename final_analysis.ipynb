{
 "cells": [
  {
   "cell_type": "code",
   "execution_count": 1,
   "id": "73854452",
   "metadata": {},
   "outputs": [],
   "source": [
    "import pandas as pd\n",
    "import numpy as np\n",
    "import statsmodels.api as sm\n",
    "import matplotlib.pyplot as plt\n",
    "from sklearn.feature_selection import SelectKBest, f_classif"
   ]
  },
  {
   "cell_type": "code",
   "execution_count": 2,
   "id": "504382bd",
   "metadata": {},
   "outputs": [],
   "source": [
    "df = pd.read_csv(\"tweets_with_topics_sentiment.csv\")"
   ]
  },
  {
   "cell_type": "code",
   "execution_count": 3,
   "id": "542d83cd",
   "metadata": {},
   "outputs": [
    {
     "data": {
      "text/plain": [
       "Unnamed: 0.2                int64\n",
       "Unnamed: 0.1                int64\n",
       "Unnamed: 0                  int64\n",
       "edit_history_tweet_ids     object\n",
       "author_id                   int64\n",
       "created_at                 object\n",
       "conversation_id             int64\n",
       "id                        float64\n",
       "text                       object\n",
       "geo.place_id               object\n",
       "referenced_tweets          object\n",
       "city                       object\n",
       "inside                    float64\n",
       "withheld.copyright         object\n",
       "withheld.country_codes     object\n",
       "withheld.scope            float64\n",
       "hashtag                    object\n",
       "text_hash_split            object\n",
       "text_clean                 object\n",
       "dominant_topic             object\n",
       "neg_prob                  float64\n",
       "neu_prob                  float64\n",
       "pos_prob                  float64\n",
       "sentiment_numeric           int64\n",
       "sentiment                  object\n",
       "dtype: object"
      ]
     },
     "execution_count": 3,
     "metadata": {},
     "output_type": "execute_result"
    }
   ],
   "source": [
    "df.dtypes"
   ]
  },
  {
   "cell_type": "code",
   "execution_count": 4,
   "id": "0f8035b8",
   "metadata": {},
   "outputs": [
    {
     "data": {
      "text/plain": [
       "array(['Fort Worth', 'San Antonio', 'Phoenix', 'Las Vegas',\n",
       "       'Jacksonville', 'San Francisco', 'New York', 'Washington DC',\n",
       "       'Boston', 'Chicago', 'Tampa', 'Kansas City', 'Raleigh',\n",
       "       'Philadelphia', 'Pittsburgh', 'New Orleans', 'Los Angeles'],\n",
       "      dtype=object)"
      ]
     },
     "execution_count": 4,
     "metadata": {},
     "output_type": "execute_result"
    }
   ],
   "source": [
    "df.city.unique()"
   ]
  },
  {
   "cell_type": "code",
   "execution_count": 5,
   "id": "63028dfe",
   "metadata": {},
   "outputs": [],
   "source": [
    "growing_cities = ['Fort Worth', 'San Antonio', 'Phoenix', 'Las Vegas',\n",
    "       'Jacksonville', 'Tampa', 'Kansas City', 'Raleigh']"
   ]
  },
  {
   "cell_type": "code",
   "execution_count": 6,
   "id": "ac9f1daa",
   "metadata": {},
   "outputs": [],
   "source": [
    "df['growing'] = np.where(df.city.isin(growing_cities), 1, 0)"
   ]
  },
  {
   "cell_type": "code",
   "execution_count": 7,
   "id": "0b8c666a",
   "metadata": {},
   "outputs": [],
   "source": [
    "df.loc[df.dominant_topic == \"exploring\", 'dominant_topic'] = \"explore\""
   ]
  },
  {
   "cell_type": "code",
   "execution_count": 8,
   "id": "02f8f6b8",
   "metadata": {},
   "outputs": [],
   "source": [
    "topic_labels = df.dominant_topic.unique()"
   ]
  },
  {
   "cell_type": "code",
   "execution_count": 9,
   "id": "4b7fd467",
   "metadata": {},
   "outputs": [],
   "source": [
    "topics = df.pivot_table(index=\"growing\", columns=\"dominant_topic\", values=\"id\", aggfunc=\"count\").reset_index()"
   ]
  },
  {
   "cell_type": "code",
   "execution_count": 10,
   "id": "e3ddf517",
   "metadata": {},
   "outputs": [
    {
     "data": {
      "text/plain": [
       "27200"
      ]
     },
     "execution_count": 10,
     "metadata": {},
     "output_type": "execute_result"
    }
   ],
   "source": [
    "len(df)"
   ]
  },
  {
   "cell_type": "code",
   "execution_count": 11,
   "id": "7c238b29",
   "metadata": {},
   "outputs": [
    {
     "data": {
      "text/plain": [
       "12800"
      ]
     },
     "execution_count": 11,
     "metadata": {},
     "output_type": "execute_result"
    }
   ],
   "source": [
    "(df.growing == 1).sum()"
   ]
  },
  {
   "cell_type": "code",
   "execution_count": 12,
   "id": "6bbb72ba",
   "metadata": {},
   "outputs": [],
   "source": [
    "total = [14400, 12800]"
   ]
  },
  {
   "cell_type": "code",
   "execution_count": 13,
   "id": "e007fa74",
   "metadata": {},
   "outputs": [],
   "source": [
    "topics['total'] = total\n",
    "topics['status'] = ['shrinking', 'growing']"
   ]
  },
  {
   "cell_type": "code",
   "execution_count": 14,
   "id": "c56f65cf",
   "metadata": {},
   "outputs": [],
   "source": [
    "for col in topic_labels:\n",
    "    topics[col] = topics[col] / topics.total"
   ]
  },
  {
   "cell_type": "code",
   "execution_count": 15,
   "id": "91b0ce01",
   "metadata": {},
   "outputs": [
    {
     "data": {
      "image/png": "[encoded data removed]",
      "text/plain": [
       "<Figure size 864x432 with 1 Axes>"
      ]
     },
     "metadata": {
      "needs_background": "light"
     },
     "output_type": "display_data"
    }
   ],
   "source": [
    "#plt.bar(topics['status'], topics[topic_labels])\n",
    "fig, ax = plt.subplots(figsize=(12, 6))\n",
    "topics.plot(x=\"status\", y=topic_labels, kind=\"bar\", rot=0, ax=ax)\n",
    "fig.savefig(\"topic_dis.png\")"
   ]
  },
  {
   "cell_type": "code",
   "execution_count": 16,
   "id": "0a75a706",
   "metadata": {},
   "outputs": [],
   "source": [
    "topics2 = df.pivot_table(index=[\"growing\", \"inside\"], columns=\"dominant_topic\", values=\"id\", aggfunc=\"count\").reset_index()"
   ]
  },
  {
   "cell_type": "code",
   "execution_count": 17,
   "id": "e0098769",
   "metadata": {},
   "outputs": [
    {
     "data": {
      "text/html": [
       "<div>\n",
       "<style scoped>\n",
       "    .dataframe tbody tr th:only-of-type {\n",
       "        vertical-align: middle;\n",
       "    }\n",
       "\n",
       "    .dataframe tbody tr th {\n",
       "        vertical-align: top;\n",
       "    }\n",
       "\n",
       "    .dataframe thead th {\n",
       "        text-align: right;\n",
       "    }\n",
       "</style>\n",
       "<table border=\"1\" class=\"dataframe\">\n",
       "  <thead>\n",
       "    <tr style=\"text-align: right;\">\n",
       "      <th>dominant_topic</th>\n",
       "      <th>growing</th>\n",
       "      <th>inside</th>\n",
       "      <th>?</th>\n",
       "      <th>businesses/services</th>\n",
       "      <th>everyday life</th>\n",
       "      <th>explore</th>\n",
       "      <th>fun</th>\n",
       "      <th>music</th>\n",
       "      <th>social</th>\n",
       "      <th>sports</th>\n",
       "      <th>transportation</th>\n",
       "    </tr>\n",
       "  </thead>\n",
       "  <tbody>\n",
       "    <tr>\n",
       "      <th>0</th>\n",
       "      <td>0</td>\n",
       "      <td>0.0</td>\n",
       "      <td>1266</td>\n",
       "      <td>808</td>\n",
       "      <td>509</td>\n",
       "      <td>790</td>\n",
       "      <td>105</td>\n",
       "      <td>1087</td>\n",
       "      <td>2554</td>\n",
       "      <td>66</td>\n",
       "      <td>15</td>\n",
       "    </tr>\n",
       "    <tr>\n",
       "      <th>1</th>\n",
       "      <td>0</td>\n",
       "      <td>1.0</td>\n",
       "      <td>1274</td>\n",
       "      <td>362</td>\n",
       "      <td>483</td>\n",
       "      <td>661</td>\n",
       "      <td>94</td>\n",
       "      <td>1057</td>\n",
       "      <td>2794</td>\n",
       "      <td>116</td>\n",
       "      <td>359</td>\n",
       "    </tr>\n",
       "    <tr>\n",
       "      <th>2</th>\n",
       "      <td>1</td>\n",
       "      <td>0.0</td>\n",
       "      <td>1245</td>\n",
       "      <td>993</td>\n",
       "      <td>526</td>\n",
       "      <td>711</td>\n",
       "      <td>86</td>\n",
       "      <td>781</td>\n",
       "      <td>1927</td>\n",
       "      <td>77</td>\n",
       "      <td>54</td>\n",
       "    </tr>\n",
       "    <tr>\n",
       "      <th>3</th>\n",
       "      <td>1</td>\n",
       "      <td>1.0</td>\n",
       "      <td>1464</td>\n",
       "      <td>243</td>\n",
       "      <td>465</td>\n",
       "      <td>497</td>\n",
       "      <td>55</td>\n",
       "      <td>783</td>\n",
       "      <td>2052</td>\n",
       "      <td>68</td>\n",
       "      <td>773</td>\n",
       "    </tr>\n",
       "  </tbody>\n",
       "</table>\n",
       "</div>"
      ],
      "text/plain": [
       "dominant_topic  growing  inside     ?  businesses/services  everyday life  \\\n",
       "0                     0     0.0  1266                  808            509   \n",
       "1                     0     1.0  1274                  362            483   \n",
       "2                     1     0.0  1245                  993            526   \n",
       "3                     1     1.0  1464                  243            465   \n",
       "\n",
       "dominant_topic  explore  fun  music  social  sports  transportation  \n",
       "0                   790  105   1087    2554      66              15  \n",
       "1                   661   94   1057    2794     116             359  \n",
       "2                   711   86    781    1927      77              54  \n",
       "3                   497   55    783    2052      68             773  "
      ]
     },
     "execution_count": 17,
     "metadata": {},
     "output_type": "execute_result"
    }
   ],
   "source": [
    "topics2.head()"
   ]
  },
  {
   "cell_type": "code",
   "execution_count": 18,
   "id": "0dddbfd1",
   "metadata": {},
   "outputs": [],
   "source": [
    "totals = []\n",
    "for i in range(2):\n",
    "    for j in range(2):\n",
    "        totals.append(len(df.loc[(df.growing == i)&(df.inside==j)]))"
   ]
  },
  {
   "cell_type": "code",
   "execution_count": 19,
   "id": "b582f83d",
   "metadata": {},
   "outputs": [],
   "source": [
    "topics2['total'] = totals"
   ]
  },
  {
   "cell_type": "code",
   "execution_count": 20,
   "id": "f17236fa",
   "metadata": {},
   "outputs": [],
   "source": [
    "topics2['status'] = ['Shrinking/Outside', 'Shrinking/Inside', \"Growing/Outside\", \"Growing/Inside\"]"
   ]
  },
  {
   "cell_type": "code",
   "execution_count": 21,
   "id": "90cab372",
   "metadata": {},
   "outputs": [],
   "source": [
    "for col in topic_labels:\n",
    "    topics2[col] = topics2[col] / topics2.total"
   ]
  },
  {
   "cell_type": "code",
   "execution_count": 22,
   "id": "7b984c2c",
   "metadata": {},
   "outputs": [
    {
     "data": {
      "image/png": "[encoded data removed]",
      "text/plain": [
       "<Figure size 864x432 with 1 Axes>"
      ]
     },
     "metadata": {
      "needs_background": "light"
     },
     "output_type": "display_data"
    }
   ],
   "source": [
    "fig, ax = plt.subplots(figsize=(12, 6))\n",
    "topics2.plot(\"status\", y=topic_labels, kind=\"bar\", rot=0, ax=ax)\n",
    "fig.savefig(\"topic_dis2.png\")"
   ]
  },
  {
   "cell_type": "code",
   "execution_count": 23,
   "id": "9092fb1c",
   "metadata": {},
   "outputs": [],
   "source": [
    "df[\"positive\"] = np.where(df.sentiment == 'positive', 1, 0)\n",
    "df[\"negative\"] = np.where(df.sentiment == 'negative', 1, 0)"
   ]
  },
  {
   "cell_type": "code",
   "execution_count": 24,
   "id": "8bcc1a30",
   "metadata": {},
   "outputs": [],
   "source": [
    "sentiment = df.pivot_table(index=\"growing\", values=['negative', 'positive'], aggfunc=\"mean\").reset_index()"
   ]
  },
  {
   "cell_type": "code",
   "execution_count": 25,
   "id": "f37341fd",
   "metadata": {},
   "outputs": [
    {
     "data": {
      "text/html": [
       "<div>\n",
       "<style scoped>\n",
       "    .dataframe tbody tr th:only-of-type {\n",
       "        vertical-align: middle;\n",
       "    }\n",
       "\n",
       "    .dataframe tbody tr th {\n",
       "        vertical-align: top;\n",
       "    }\n",
       "\n",
       "    .dataframe thead th {\n",
       "        text-align: right;\n",
       "    }\n",
       "</style>\n",
       "<table border=\"1\" class=\"dataframe\">\n",
       "  <thead>\n",
       "    <tr style=\"text-align: right;\">\n",
       "      <th></th>\n",
       "      <th>growing</th>\n",
       "      <th>negative</th>\n",
       "      <th>positive</th>\n",
       "    </tr>\n",
       "  </thead>\n",
       "  <tbody>\n",
       "    <tr>\n",
       "      <th>0</th>\n",
       "      <td>0</td>\n",
       "      <td>0.065278</td>\n",
       "      <td>0.386528</td>\n",
       "    </tr>\n",
       "    <tr>\n",
       "      <th>1</th>\n",
       "      <td>1</td>\n",
       "      <td>0.057109</td>\n",
       "      <td>0.372578</td>\n",
       "    </tr>\n",
       "  </tbody>\n",
       "</table>\n",
       "</div>"
      ],
      "text/plain": [
       "   growing  negative  positive\n",
       "0        0  0.065278  0.386528\n",
       "1        1  0.057109  0.372578"
      ]
     },
     "execution_count": 25,
     "metadata": {},
     "output_type": "execute_result"
    }
   ],
   "source": [
    "sentiment"
   ]
  },
  {
   "cell_type": "code",
   "execution_count": 26,
   "id": "1c548f61",
   "metadata": {},
   "outputs": [],
   "source": [
    "sentiment2 = df.pivot_table(index=[\"growing\", \"inside\"], values=['negative', 'positive'], aggfunc=\"mean\").reset_index()"
   ]
  },
  {
   "cell_type": "code",
   "execution_count": 27,
   "id": "8b902e70",
   "metadata": {},
   "outputs": [
    {
     "data": {
      "text/html": [
       "<div>\n",
       "<style scoped>\n",
       "    .dataframe tbody tr th:only-of-type {\n",
       "        vertical-align: middle;\n",
       "    }\n",
       "\n",
       "    .dataframe tbody tr th {\n",
       "        vertical-align: top;\n",
       "    }\n",
       "\n",
       "    .dataframe thead th {\n",
       "        text-align: right;\n",
       "    }\n",
       "</style>\n",
       "<table border=\"1\" class=\"dataframe\">\n",
       "  <thead>\n",
       "    <tr style=\"text-align: right;\">\n",
       "      <th></th>\n",
       "      <th>growing</th>\n",
       "      <th>inside</th>\n",
       "      <th>negative</th>\n",
       "      <th>positive</th>\n",
       "    </tr>\n",
       "  </thead>\n",
       "  <tbody>\n",
       "    <tr>\n",
       "      <th>0</th>\n",
       "      <td>0</td>\n",
       "      <td>0.0</td>\n",
       "      <td>0.075833</td>\n",
       "      <td>0.372639</td>\n",
       "    </tr>\n",
       "    <tr>\n",
       "      <th>1</th>\n",
       "      <td>0</td>\n",
       "      <td>1.0</td>\n",
       "      <td>0.054722</td>\n",
       "      <td>0.400417</td>\n",
       "    </tr>\n",
       "    <tr>\n",
       "      <th>2</th>\n",
       "      <td>1</td>\n",
       "      <td>0.0</td>\n",
       "      <td>0.060312</td>\n",
       "      <td>0.356719</td>\n",
       "    </tr>\n",
       "    <tr>\n",
       "      <th>3</th>\n",
       "      <td>1</td>\n",
       "      <td>1.0</td>\n",
       "      <td>0.053906</td>\n",
       "      <td>0.388437</td>\n",
       "    </tr>\n",
       "  </tbody>\n",
       "</table>\n",
       "</div>"
      ],
      "text/plain": [
       "   growing  inside  negative  positive\n",
       "0        0     0.0  0.075833  0.372639\n",
       "1        0     1.0  0.054722  0.400417\n",
       "2        1     0.0  0.060312  0.356719\n",
       "3        1     1.0  0.053906  0.388437"
      ]
     },
     "execution_count": 27,
     "metadata": {},
     "output_type": "execute_result"
    }
   ],
   "source": [
    "sentiment2"
   ]
  },
  {
   "cell_type": "code",
   "execution_count": 28,
   "id": "162e822d",
   "metadata": {},
   "outputs": [],
   "source": [
    "topics_sentiment = df.groupby(['growing', 'dominant_topic'])[['negative', 'positive']]\\\n",
    ".mean().reset_index().pivot(index=\"dominant_topic\", columns=\"growing\", values=[\"negative\", \"positive\"])"
   ]
  },
  {
   "cell_type": "code",
   "execution_count": 29,
   "id": "ce3aa154",
   "metadata": {},
   "outputs": [],
   "source": [
    "topics_sentiment_location = df.groupby(['growing', 'dominant_topic', \"inside\"])[['negative', 'positive']].mean()"
   ]
  },
  {
   "cell_type": "code",
   "execution_count": 30,
   "id": "5fb2cf2b",
   "metadata": {},
   "outputs": [],
   "source": [
    "topics_sentiment.columns = ['Negative/Shrinking', 'Negative/Growing', \"Positive/Shrinking\", \"Positive/Growing\"]"
   ]
  },
  {
   "cell_type": "code",
   "execution_count": 35,
   "id": "d4e9adb2",
   "metadata": {},
   "outputs": [
    {
     "data": {
      "image/png": "[encoded data removed]",
      "text/plain": [
       "<Figure size 864x288 with 1 Axes>"
      ]
     },
     "metadata": {
      "needs_background": "light"
     },
     "output_type": "display_data"
    }
   ],
   "source": [
    "fig, ax = plt.subplots(figsize=(12, 4))\n",
    "topics_sentiment.plot(kind=\"bar\", ax=ax, rot=45, cmap=\"Paired\")\n",
    "fig.savefig(\"topic_sentiment.png\",  bbox_inches = \"tight\")"
   ]
  },
  {
   "cell_type": "code",
   "execution_count": 32,
   "id": "c72e84ae",
   "metadata": {},
   "outputs": [],
   "source": [
    "topics_sentiment_location = topics_sentiment_location.reset_index()\n",
    "\n",
    "tsl_inside = topics_sentiment_location.loc[topics_sentiment_location.inside == 1].pivot(index=\"dominant_topic\", columns=\"growing\", values=[\"negative\", \"positive\"])\n",
    "tsl_outside = topics_sentiment_location.loc[topics_sentiment_location.inside == 0].pivot(index=\"dominant_topic\", columns=\"growing\", values=[\"negative\", \"positive\"])"
   ]
  },
  {
   "cell_type": "code",
   "execution_count": 33,
   "id": "859190b8",
   "metadata": {},
   "outputs": [
    {
     "data": {
      "image/png": "[encoded data removed]",
      "text/plain": [
       "<Figure size 864x288 with 1 Axes>"
      ]
     },
     "metadata": {
      "needs_background": "light"
     },
     "output_type": "display_data"
    },
    {
     "data": {
      "image/png": "[encoded data removed]",
      "text/plain": [
       "<Figure size 432x288 with 1 Axes>"
      ]
     },
     "metadata": {
      "needs_background": "light"
     },
     "output_type": "display_data"
    }
   ],
   "source": [
    "fig, ax = plt.subplots(figsize=(12, 4))\n",
    "tsl_inside.columns = ['Negative/Shrinking', 'Negative/Growing', \"Positive/Shrinking\", \"Positive/Growing\"]\n",
    "tsl_inside.plot(kind=\"bar\", rot=45, cmap=\"Paired\")\n",
    "fig.savefig(\"topic_sentiment_inside.png\",  bbox_inches = \"tight\")"
   ]
  },
  {
   "cell_type": "code",
   "execution_count": 34,
   "id": "9802268d",
   "metadata": {},
   "outputs": [
    {
     "data": {
      "image/png": "[encoded data removed]",
      "text/plain": [
       "<Figure size 864x288 with 1 Axes>"
      ]
     },
     "metadata": {
      "needs_background": "light"
     },
     "output_type": "display_data"
    }
   ],
   "source": [
    "fig, ax = plt.subplots(figsize=(12, 4))\n",
    "\n",
    "tsl_outside.columns = ['Negative/Shrinking', 'Negative/Growing', \"Positive/Shrinking\", \"Positive/Growing\"]\n",
    "tsl_outside.plot(kind=\"bar\", figsize=(12, 4), rot=45, cmap=\"Paired\", ax=ax)\n",
    "fig.savefig(\"topic_sentiment_outside.png\",  bbox_inches = \"tight\")"
   ]
  },
  {
   "cell_type": "code",
   "execution_count": null,
   "id": "18f5f106",
   "metadata": {},
   "outputs": [],
   "source": []
  }
 ],
 "metadata": {
  "kernelspec": {
   "display_name": "Python 3 (ipykernel)",
   "language": "python",
   "name": "python3"
  },
  "language_info": {
   "codemirror_mode": {
    "name": "ipython",
    "version": 3
   },
   "file_extension": ".py",
   "mimetype": "text/x-python",
   "name": "python",
   "nbconvert_exporter": "python",
   "pygments_lexer": "ipython3",
   "version": "3.9.16"
  }
 },
 "nbformat": 4,
 "nbformat_minor": 5
}
